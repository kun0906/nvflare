{
 "cells": [
  {
   "cell_type": "code",
   "metadata": {
    "collapsed": false,
    "ExecuteTime": {
     "end_time": "2024-09-11T20:12:35.127664Z",
     "start_time": "2024-09-11T20:12:35.124013Z"
    }
   },
   "source": [
    "# For tips on running notebooks in Google Colab, see\n",
    "# https://pytorch.org/tutorials/beginner/colab\n",
    "# download from https://pytorch.org/tutorials/beginner/blitz/cifar10_tutorial.html\n",
    "\n",
    "%matplotlib inline"
   ],
   "outputs": [],
   "execution_count": 328
  },
  {
   "cell_type": "markdown",
   "metadata": {},
   "source": [
    "Training a Classifier\n",
    "=====================\n",
    "\n",
    "This is it. You have seen how to define neural networks, compute loss\n",
    "and make updates to the weights of the network.\n",
    "\n",
    "Now you might be thinking,\n",
    "\n",
    "What about data?\n",
    "----------------\n",
    "\n",
    "Generally, when you have to deal with image, text, audio or video data,\n",
    "you can use standard python packages that load data into a numpy array.\n",
    "Then you can convert this array into a `torch.*Tensor`.\n",
    "\n",
    "-   For images, packages such as Pillow, OpenCV are useful\n",
    "-   For audio, packages such as scipy and librosa\n",
    "-   For text, either raw Python or Cython based loading, or NLTK and\n",
    "    SpaCy are useful\n",
    "\n",
    "Specifically for vision, we have created a package called `torchvision`,\n",
    "that has data loaders for common datasets such as ImageNet, CIFAR10,\n",
    "MNIST, etc. and data transformers for images, viz.,\n",
    "`torchvision.datasets` and `torch.utils.data.DataLoader`.\n",
    "\n",
    "This provides a huge convenience and avoids writing boilerplate code.\n",
    "\n",
    "For this tutorial, we will use the CIFAR10 dataset. It has the classes:\n",
    "'airplane', 'automobile', 'bird', 'cat', 'deer', 'dog', 'frog', 'horse',\n",
    "'ship', 'truck'. The images in CIFAR-10 are of size 3x32x32, i.e.\n",
    "3-channel color images of 32x32 pixels in size.\n",
    "\n",
    "![cifar10](https://pytorch.org/tutorials/_static/img/cifar10.png)\n",
    "\n",
    "Training an image classifier\n",
    "----------------------------\n",
    "\n",
    "We will do the following steps in order:\n",
    "\n",
    "1.  Load and normalize the CIFAR10 training and test datasets using\n",
    "    `torchvision`\n",
    "2.  Define a Convolutional Neural Network\n",
    "3.  Define a loss function\n",
    "4.  Train the network on the training data\n",
    "5.  Test the network on the test data\n",
    "\n",
    "### 1. Load and normalize CIFAR10\n",
    "\n",
    "Using `torchvision`, it's extremely easy to load CIFAR10.\n"
   ]
  },
  {
   "cell_type": "code",
   "metadata": {
    "collapsed": false,
    "ExecuteTime": {
     "end_time": "2024-09-11T20:12:35.173689Z",
     "start_time": "2024-09-11T20:12:35.170849Z"
    }
   },
   "source": [
    "import os\n",
    "import pickle\n",
    "import random\n",
    "from collections import Counter\n",
    "\n",
    "import matplotlib.pyplot as plt\n",
    "import numpy as np\n",
    "import torch\n",
    "import torch.nn as nn\n",
    "import torch.nn.functional as F\n",
    "import torchvision\n",
    "from torch.optim import Adam\n",
    "from torch.utils.data import DataLoader\n",
    "import torchvision.transforms as transforms\n",
    "from dev.cifar10_demo.cifar10_data import CustomCIFAR10Dataset\n"
   ],
   "outputs": [],
   "execution_count": 329
  },
  {
   "cell_type": "markdown",
   "metadata": {},
   "source": [
    "The output of torchvision datasets are PILImage images of range \\[0,\n",
    "1\\]. We transform them to Tensors of normalized range \\[-1, 1\\].\n"
   ]
  },
  {
   "cell_type": "markdown",
   "metadata": {},
   "source": [
    "<div style=\"background-color: #54c7ec; color: #fff; font-weight: 700; padding-left: 10px; padding-top: 5px; padding-bottom: 5px\"><strong>NOTE:</strong></div>\n",
    "<div style=\"background-color: #f3f4f7; padding-left: 10px; padding-top: 10px; padding-bottom: 10px; padding-right: 10px\">\n",
    "<p>If running on Windows and you get a BrokenPipeError, try settingthe num_worker of torch.utils.data.DataLoader() to 0.</p>\n",
    "</div>\n"
   ]
  },
  {
   "cell_type": "code",
   "metadata": {
    "collapsed": false,
    "ExecuteTime": {
     "end_time": "2024-09-11T20:12:35.201123Z",
     "start_time": "2024-09-11T20:12:35.179755Z"
    }
   },
   "source": [
    "# Set random seeds for reproducibility\n",
    "random_seed = 42\n",
    "torch.manual_seed(random_seed)\n",
    "np.random.seed(random_seed)\n",
    "random.seed(random_seed)\n",
    "\n",
    "transform = transforms.Compose(\n",
    "    [\n",
    "        # transforms.ToTensor(), # divide by 255 \n",
    "        transforms.Normalize((0.5, 0.5, 0.5), (0.5, 0.5, 0.5))\n",
    "    ]\n",
    ")\n",
    "\n",
    "root_dir = '/Users/49751124/PycharmProjects/nvflare'\n",
    "\n",
    "train_path = f'{root_dir}/cifar10-hello-pt-10clients-2classes/jobs/data/client_1_airplane_train.pkl'\n",
    "test_path = f'{root_dir}/cifar10-hello-pt-10clients-2classes/jobs/data/client_1_airplane_test.pkl'\n",
    "test_path = train_path\n",
    "# load train set\n",
    "with open(train_path, \"rb\") as f:\n",
    "    # Get the size of the subset\n",
    "    client_data = pickle.load(f)\n",
    "# Unpack client_data into separate lists\n",
    "client_images, _, client_targets = client_data\n",
    "client_images = np.array(client_images).astype('float32') / 255.0\n",
    "client_targets = np.array(client_targets).astype('int')\n",
    "\n",
    "# Convert lists to tensors if needed\n",
    "# client_images = torch.tensor(client_images)\n",
    "# Convert to float32 if needed\n",
    "# client_images = client_images.astype('float32')\n",
    "\n",
    "# Convert to PyTorch tensor\n",
    "client_images = torch.tensor(client_images, dtype=torch.float32)\n",
    "client_targets = torch.tensor(client_targets)\n",
    "# Convert to PyTorch format: [batch_size, num_channels, height, width]\n",
    "client_images = client_images.permute(0, 3, 1, 2)\n",
    "\n",
    "# Instantiate the custom dataset\n",
    "_train_subset = CustomCIFAR10Dataset(data=client_images, targets=client_targets, transform=transform)\n",
    "\n",
    "train_loader = DataLoader(_train_subset, batch_size=4, shuffle=True)\n",
    "n_iterations = len(train_loader)\n",
    "subset_size = len(_train_subset)\n",
    "print(f\"Size of the training subset: {subset_size}\")\n",
    "# Count the number of samples in each class within the subset\n",
    "class_counts = Counter()\n",
    "for label in _train_subset.targets.numpy():\n",
    "    class_counts[str(label)] += 1\n",
    "# Print the counts for each class\n",
    "for class_index, count in class_counts.items():\n",
    "    print(f\"Class {class_index}: {count} samples\")\n",
    "# Setup the persistence manager to save PT model.\n",
    "# The default training configuration is used by persistence manager\n",
    "# in case no initial model is found.\n",
    "# default_train_conf = {\"train\": {\"model\": type(model).__name__}}\n",
    "\n",
    "\n",
    "# load test set\n",
    "print(os.getcwd())\n",
    "with open(test_path, \"rb\") as f:\n",
    "    # Get the size of the subset\n",
    "    client_data = pickle.load(f)\n",
    "# Unpack client_data into separate lists\n",
    "client_images, _, client_targets = client_data\n",
    "client_images = np.array(client_images).astype('float32') / 255.0\n",
    "client_targets = np.array(client_targets).astype('int')\n",
    "\n",
    "# Convert lists to tensors if needed\n",
    "# client_images = torch.tensor(client_images)\n",
    "# Convert to float32 if needed\n",
    "# client_images = client_images.astype('float32')\n",
    "\n",
    "# Convert to PyTorch tensor\n",
    "client_images = torch.tensor(client_images, dtype=torch.float32)\n",
    "client_targets = torch.tensor(client_targets)\n",
    "# Convert to PyTorch format: [batch_size, num_channels, height, width]\n",
    "client_images = client_images.permute(0, 3, 1, 2)\n",
    "\n",
    "# Instantiate the custom dataset\n",
    "_test_subset = CustomCIFAR10Dataset(data=client_images, targets=client_targets, transform=transform)\n",
    "\n",
    "test_loader = DataLoader(_test_subset, batch_size=4, shuffle=True)\n",
    "# self._n_iterations = len(self._test_loader)\n",
    "subset_size = len(_test_subset)\n",
    "print(f\"Size of the testing subset: {subset_size}\")\n",
    "# Count the number of samples in each class within the subset\n",
    "class_counts = Counter()\n",
    "for label in _test_subset.targets.numpy():\n",
    "    class_counts[str(label)] += 1\n",
    "# Print the counts for each class\n",
    "for class_index, count in class_counts.items():\n",
    "    print(f\"Class {class_index}: {count} samples\")\n",
    "\n",
    "# \n",
    "# transform = transforms.Compose(\n",
    "#     [transforms.ToTensor(),\n",
    "#      transforms.Normalize((0.5, 0.5, 0.5), (0.5, 0.5, 0.5))])\n",
    "# \n",
    "# batch_size = 4\n",
    "# \n",
    "# trainset = torchvision.datasets.CIFAR10(root='./data', train=True,\n",
    "#                                         download=True, transform=transform)\n",
    "# trainloader = torch.utils.data.DataLoader(trainset, batch_size=batch_size,\n",
    "#                                           shuffle=True, num_workers=2)\n",
    "# \n",
    "# testset = torchvision.datasets.CIFAR10(root='./data', train=False,\n",
    "#                                        download=True, transform=transform)\n",
    "# testloader = torch.utils.data.DataLoader(testset, batch_size=batch_size,\n",
    "#                                          shuffle=False, num_workers=2)\n",
    "# \n",
    "# classes = ('plane', 'car', 'bird', 'cat',\n",
    "#            'deer', 'dog', 'frog', 'horse', 'ship', 'truck')"
   ],
   "outputs": [
    {
     "name": "stdout",
     "output_type": "stream",
     "text": [
      "Size of the training subset: 1000\n",
      "Class 1: 500 samples\n",
      "Class 0: 500 samples\n",
      "/Users/49751124/PycharmProjects/nvflare/cifar10-hello-pt-10clients-2classes/jobs/10clients-2classes\n",
      "Size of the testing subset: 1000\n",
      "Class 1: 500 samples\n",
      "Class 0: 500 samples\n"
     ]
    }
   ],
   "execution_count": 330
  },
  {
   "cell_type": "markdown",
   "metadata": {},
   "source": [
    "Let us show some of the training images, for fun.\n"
   ]
  },
  {
   "cell_type": "code",
   "metadata": {
    "collapsed": false,
    "ExecuteTime": {
     "end_time": "2024-09-11T20:12:35.240216Z",
     "start_time": "2024-09-11T20:12:35.202338Z"
    }
   },
   "source": [
    "\n",
    "\n",
    "# functions to show an image\n",
    "\n",
    "\n",
    "def imshow(img):\n",
    "    img = img / 2 + 0.5  # unnormalize\n",
    "    npimg = img.numpy()\n",
    "    # The function np.transpose(npimg, (1, 2, 0)) rearranges the dimensions of the image tensor from (C, H, W) (channels, height, width) to (H, W, C) because matplotlib expects images with height and width as the first two dimensions and the color channels last.\n",
    "    plt.imshow(np.transpose(npimg, (1, 2, 0)))\n",
    "    plt.show()\n",
    "\n",
    "\n",
    "# get some random training images\n",
    "dataiter = iter(train_loader)\n",
    "images, labels = next(dataiter)\n",
    "print(images.shape, labels)\n",
    "# images = images.int()\n",
    "# show images\n",
    "imshow(torchvision.utils.make_grid(images))\n",
    "# print labels\n",
    "# print(' '.join(f'{classes[labels[j]]:5s}' for j in range(batch_size)))"
   ],
   "outputs": [
    {
     "name": "stdout",
     "output_type": "stream",
     "text": [
      "torch.Size([4, 3, 32, 32]) tensor([1, 1, 0, 0])\n"
     ]
    },
    {
     "data": {
      "text/plain": [
       "<Figure size 640x480 with 1 Axes>"
      ],
      "image/png": "[encoded data removed]"
     },
     "metadata": {},
     "output_type": "display_data"
    }
   ],
   "execution_count": 331
  },
  {
   "cell_type": "markdown",
   "metadata": {},
   "source": [
    "2. Define a Convolutional Neural Network\n",
    "========================================\n",
    "\n",
    "Copy the neural network from the Neural Networks section before and\n",
    "modify it to take 3-channel images (instead of 1-channel images as it\n",
    "was defined).\n"
   ]
  },
  {
   "cell_type": "code",
   "metadata": {
    "collapsed": false,
    "ExecuteTime": {
     "end_time": "2024-09-13T16:03:03.940248Z",
     "start_time": "2024-09-13T16:03:02.948012Z"
    }
   },
   "source": [
    "\n",
    "class Net(nn.Module):\n",
    "    def __init__(self):\n",
    "        super().__init__()\n",
    "        self.conv1 = nn.Conv2d(3, 6, 5)\n",
    "        self.pool = nn.MaxPool2d(2, 2)\n",
    "        self.conv2 = nn.Conv2d(6, 16, 5)\n",
    "        self.fc1 = nn.Linear(16 * 5 * 5, 120)\n",
    "        self.fc2 = nn.Linear(120, 84)\n",
    "        self.fc3 = nn.Linear(84, 2)\n",
    "\n",
    "    def forward(self, x):\n",
    "        x = self.pool(F.relu(self.conv1(x)))\n",
    "        x = self.pool(F.relu(self.conv2(x)))\n",
    "        x = torch.flatten(x, 1)  # flatten all dimensions except batch\n",
    "        x = F.relu(self.fc1(x))\n",
    "        x = F.relu(self.fc2(x))\n",
    "        x = self.fc3(x)\n",
    "        # x = F.sigmoid(x)\n",
    "        return x\n",
    "\n",
    "\n",
    "net = Net()"
   ],
   "outputs": [
    {
     "ename": "NameError",
     "evalue": "name 'nn' is not defined",
     "output_type": "error",
     "traceback": [
      "\u001B[0;31m---------------------------------------------------------------------------\u001B[0m",
      "\u001B[0;31mNameError\u001B[0m                                 Traceback (most recent call last)",
      "Cell \u001B[0;32mIn[1], line 2\u001B[0m\n\u001B[1;32m      1\u001B[0m \u001B[38;5;66;03m# pydev_debug_cell\u001B[39;00m\n\u001B[0;32m----> 2\u001B[0m \u001B[38;5;28;01mclass\u001B[39;00m \u001B[38;5;21;01mNet\u001B[39;00m(\u001B[43mnn\u001B[49m\u001B[38;5;241m.\u001B[39mModule):\n\u001B[1;32m      3\u001B[0m     \u001B[38;5;28;01mdef\u001B[39;00m \u001B[38;5;21m__init__\u001B[39m(\u001B[38;5;28mself\u001B[39m):\n\u001B[1;32m      4\u001B[0m         \u001B[38;5;28msuper\u001B[39m()\u001B[38;5;241m.\u001B[39m\u001B[38;5;21m__init__\u001B[39m()\n",
      "\u001B[0;31mNameError\u001B[0m: name 'nn' is not defined"
     ]
    }
   ],
   "execution_count": 1
  },
  {
   "cell_type": "markdown",
   "metadata": {},
   "source": [
    "3. Define a Loss function and optimizer\n",
    "=======================================\n",
    "\n",
    "Let\\'s use a Classification Cross-Entropy loss and SGD with momentum.\n"
   ]
  },
  {
   "cell_type": "code",
   "metadata": {
    "collapsed": false,
    "ExecuteTime": {
     "end_time": "2024-09-11T20:12:35.252672Z",
     "start_time": "2024-09-11T20:12:35.248771Z"
    }
   },
   "source": [
    "\n",
    "criterion = nn.CrossEntropyLoss()\n",
    "# optimizer = optim.SGD(net.parameters(), lr=0.001, momentum=0.9)\n",
    "optimizer = Adam(net.parameters(), lr=0.001)"
   ],
   "outputs": [],
   "execution_count": 333
  },
  {
   "cell_type": "markdown",
   "metadata": {},
   "source": [
    "4. Train the network\n",
    "====================\n",
    "\n",
    "This is when things start to get interesting. We simply have to loop\n",
    "over our data iterator, and feed the inputs to the network and optimize.\n"
   ]
  },
  {
   "cell_type": "code",
   "metadata": {
    "collapsed": false,
    "ExecuteTime": {
     "end_time": "2024-09-11T20:12:53.996667Z",
     "start_time": "2024-09-11T20:12:35.253803Z"
    }
   },
   "source": [
    "print(f'len(train_loader):{n_iterations}')\n",
    "losses = []\n",
    "for epoch in range(100):  # loop over the dataset multiple times\n",
    "    # print(f'epoch: {epoch}...')\n",
    "    running_loss = 0.0\n",
    "    for i, data in enumerate(train_loader, 0):\n",
    "        # get the inputs; data is a list of [inputs, labels]\n",
    "        inputs, labels = data\n",
    "\n",
    "        # zero the parameter gradients\n",
    "        optimizer.zero_grad()\n",
    "\n",
    "        # forward + backward + optimize\n",
    "        outputs = net(inputs)\n",
    "        loss = criterion(outputs, labels)\n",
    "        loss.backward()\n",
    "        optimizer.step()\n",
    "\n",
    "        # print statistics\n",
    "        running_loss += loss.item()\n",
    "        if i % 2000 == 1999:  # print every 2000 mini-batches\n",
    "            print(f'[{epoch + 1}, {i + 1:5d}] loss: {running_loss / 2000:.3f}')\n",
    "            # running_loss = 0.0\n",
    "    if epoch % 20 == 0:\n",
    "        print(f'epoch:{epoch}, loss: {running_loss}')\n",
    "    losses.append(running_loss)\n",
    "print('Finished Training')\n",
    "plt.plot(losses)"
   ],
   "outputs": [
    {
     "name": "stdout",
     "output_type": "stream",
     "text": [
      "len(train_loader):250\n",
      "epoch:0, loss: 147.4698367714882\n",
      "epoch:20, loss: 0.8785524459172489\n",
      "epoch:40, loss: 0.00035022110305682475\n",
      "epoch:60, loss: 1.4394493646818773e-05\n",
      "epoch:80, loss: 7.152556360523477e-07\n",
      "Finished Training\n"
     ]
    },
    {
     "data": {
      "text/plain": [
       "[<matplotlib.lines.Line2D at 0x179fa2aa0>]"
      ]
     },
     "execution_count": 334,
     "metadata": {},
     "output_type": "execute_result"
    },
    {
     "data": {
      "text/plain": [
       "<Figure size 640x480 with 1 Axes>"
      ],
      "image/png": "[encoded data removed]"
     },
     "metadata": {},
     "output_type": "display_data"
    }
   ],
   "execution_count": 334
  },
  {
   "cell_type": "markdown",
   "metadata": {},
   "source": [
    "Let\\'s quickly save our trained model:\n"
   ]
  },
  {
   "cell_type": "code",
   "metadata": {
    "collapsed": false,
    "ExecuteTime": {
     "end_time": "2024-09-11T20:12:54.002464Z",
     "start_time": "2024-09-11T20:12:53.997921Z"
    }
   },
   "source": [
    "PATH = './cifar_net.pth'\n",
    "torch.save(net.state_dict(), PATH)"
   ],
   "outputs": [],
   "execution_count": 335
  },
  {
   "cell_type": "markdown",
   "metadata": {},
   "source": [
    "See [here](https://pytorch.org/docs/stable/notes/serialization.html) for\n",
    "more details on saving PyTorch models.\n",
    "\n",
    "5. Test the network on the test data\n",
    "====================================\n",
    "\n",
    "We have trained the network for 2 passes over the training dataset. But\n",
    "we need to check if the network has learnt anything at all.\n",
    "\n",
    "We will check this by predicting the class label that the neural network\n",
    "outputs, and checking it against the ground-truth. If the prediction is\n",
    "correct, we add the sample to the list of correct predictions.\n",
    "\n",
    "Okay, first step. Let us display an image from the test set to get\n",
    "familiar.\n"
   ]
  },
  {
   "cell_type": "code",
   "metadata": {
    "collapsed": false,
    "ExecuteTime": {
     "end_time": "2024-09-11T20:12:54.039316Z",
     "start_time": "2024-09-11T20:12:54.003840Z"
    }
   },
   "source": [
    "dataiter = iter(test_loader)\n",
    "images, labels = next(dataiter)\n",
    "# print images\n",
    "imshow(torchvision.utils.make_grid(images))\n",
    "# print('GroundTruth: ', ' '.join(f'{classes[labels[j]]:5s}' for j in range(4)))"
   ],
   "outputs": [
    {
     "data": {
      "text/plain": [
       "<Figure size 640x480 with 1 Axes>"
      ],
      "image/png": "[encoded data removed]"
     },
     "metadata": {},
     "output_type": "display_data"
    }
   ],
   "execution_count": 336
  },
  {
   "cell_type": "markdown",
   "metadata": {},
   "source": [
    "Next, let\\'s load back in our saved model (note: saving and re-loading\n",
    "the model wasn\\'t necessary here, we only did it to illustrate how to do\n",
    "so):\n"
   ]
  },
  {
   "cell_type": "code",
   "metadata": {
    "collapsed": false,
    "ExecuteTime": {
     "end_time": "2024-09-11T20:12:54.050819Z",
     "start_time": "2024-09-11T20:12:54.040323Z"
    }
   },
   "source": [
    "net = Net()\n",
    "net.load_state_dict(torch.load(PATH, weights_only=True))"
   ],
   "outputs": [
    {
     "data": {
      "text/plain": [
       "<All keys matched successfully>"
      ]
     },
     "execution_count": 337,
     "metadata": {},
     "output_type": "execute_result"
    }
   ],
   "execution_count": 337
  },
  {
   "cell_type": "markdown",
   "metadata": {},
   "source": [
    "Okay, now let us see what the neural network thinks these examples above\n",
    "are:\n"
   ]
  },
  {
   "cell_type": "code",
   "metadata": {
    "collapsed": false,
    "ExecuteTime": {
     "end_time": "2024-09-11T20:12:54.056316Z",
     "start_time": "2024-09-11T20:12:54.052241Z"
    }
   },
   "source": [
    "outputs = net(images)\n",
    "outputs"
   ],
   "outputs": [
    {
     "data": {
      "text/plain": [
       "tensor([[-27.9909,  27.1979],\n",
       "        [-35.1525,  34.3247],\n",
       "        [ 15.9000, -16.1995],\n",
       "        [ 42.0451, -42.5687]], grad_fn=<AddmmBackward0>)"
      ]
     },
     "execution_count": 338,
     "metadata": {},
     "output_type": "execute_result"
    }
   ],
   "execution_count": 338
  },
  {
   "cell_type": "markdown",
   "metadata": {},
   "source": [
    "The outputs are energies for the 10 classes. The higher the energy for a\n",
    "class, the more the network thinks that the image is of the particular\n",
    "class. So, let\\'s get the index of the highest energy:\n"
   ]
  },
  {
   "cell_type": "code",
   "metadata": {
    "collapsed": false,
    "ExecuteTime": {
     "end_time": "2024-09-11T20:12:54.061617Z",
     "start_time": "2024-09-11T20:12:54.058501Z"
    }
   },
   "source": [
    "_, predicted = torch.max(outputs, 1)\n",
    "predicted\n",
    "# print('Predicted: ', ' '.join(f'{classes[predicted[j]]:5s}'\n",
    "#                               for j in range(4)))"
   ],
   "outputs": [
    {
     "data": {
      "text/plain": [
       "tensor([1, 1, 0, 0])"
      ]
     },
     "execution_count": 339,
     "metadata": {},
     "output_type": "execute_result"
    }
   ],
   "execution_count": 339
  },
  {
   "cell_type": "markdown",
   "metadata": {},
   "source": [
    "The results seem pretty good.\n",
    "\n",
    "Let us look at how the network performs on the whole dataset.\n"
   ]
  },
  {
   "cell_type": "code",
   "metadata": {
    "collapsed": false,
    "ExecuteTime": {
     "end_time": "2024-09-11T20:12:54.177948Z",
     "start_time": "2024-09-11T20:12:54.062496Z"
    }
   },
   "source": [
    "correct = 0\n",
    "total = 0\n",
    "# since we're not training, we don't need to calculate the gradients for our outputs\n",
    "with torch.no_grad():\n",
    "    for data in test_loader:\n",
    "        images, labels = data\n",
    "        # calculate outputs by running images through the network\n",
    "        outputs = net(images)\n",
    "        # the class with the highest energy is what we choose as prediction\n",
    "        _, predicted = torch.max(outputs.data, 1)\n",
    "        total += labels.size(0)\n",
    "        correct += (predicted == labels).sum().item()\n",
    "\n",
    "print(f'Accuracy of the network on the 10000 test images: {100 * correct // total} %')"
   ],
   "outputs": [
    {
     "name": "stdout",
     "output_type": "stream",
     "text": [
      "Accuracy of the network on the 10000 test images: 100 %\n"
     ]
    }
   ],
   "execution_count": 340
  },
  {
   "cell_type": "markdown",
   "metadata": {},
   "source": [
    "That looks way better than chance, which is 10% accuracy (randomly\n",
    "picking a class out of 10 classes). Seems like the network learnt\n",
    "something.\n",
    "\n",
    "Hmmm, what are the classes that performed well, and the classes that did\n",
    "not perform well:\n"
   ]
  },
  {
   "cell_type": "code",
   "metadata": {
    "collapsed": false,
    "ExecuteTime": {
     "end_time": "2024-09-11T20:12:54.293980Z",
     "start_time": "2024-09-11T20:12:54.179048Z"
    }
   },
   "source": [
    "# prepare to count predictions for each class\n",
    "classes = [0, 1]\n",
    "correct_pred = {classname: 0 for classname in classes}\n",
    "total_pred = {classname: 0 for classname in classes}\n",
    "misclassified = []\n",
    "# again no gradients needed\n",
    "with torch.no_grad():\n",
    "    for data in test_loader:\n",
    "        images, labels = data\n",
    "        labels = labels.numpy()\n",
    "        # print(labels)\n",
    "        outputs = net(images)\n",
    "        _, predictions = torch.max(outputs, 1)\n",
    "        # collect the correct predictions for each class\n",
    "        for label, prediction, img in zip(labels, predictions, images):\n",
    "            # print(label)\n",
    "            if label == prediction:\n",
    "                correct_pred[label] += 1\n",
    "            else:\n",
    "                misclassified.append((img, label, prediction))\n",
    "            total_pred[label] += 1\n",
    "\n",
    "print(correct_pred, total_pred)\n",
    "# print accuracy for each class\n",
    "for classname, correct_count in correct_pred.items():\n",
    "    accuracy = 100 * float(correct_count) / total_pred[classname]\n",
    "    print(f'Accuracy for class: {classname} is {accuracy:.1f} %')\n",
    "\n",
    "# for i, (img, label, prediction) in enumerate(misclassified):\n",
    "#     if i == 5: break \n",
    "#     print(f'true label (airplane): {label}, predicted label (non-airplane): {prediction}')\n",
    "#     imshow(torchvision.utils.make_grid(img/255))\n",
    "if len(misclassified) > 0:\n",
    "    imgs, labels, predictions = zip(*misclassified)\n",
    "    imgs = torch.stack(imgs)\n",
    "    imshow(torchvision.utils.make_grid(imgs / 255))"
   ],
   "outputs": [
    {
     "name": "stdout",
     "output_type": "stream",
     "text": [
      "{0: 500, 1: 500} {0: 500, 1: 500}\n",
      "Accuracy for class: 0 is 100.0 %\n",
      "Accuracy for class: 1 is 100.0 %\n"
     ]
    }
   ],
   "execution_count": 341
  },
  {
   "cell_type": "markdown",
   "metadata": {},
   "source": [
    "Okay, so what next?\n",
    "\n",
    "How do we run these neural networks on the GPU?\n",
    "\n",
    "Training on GPU\n",
    "===============\n",
    "\n",
    "Just like how you transfer a Tensor onto the GPU, you transfer the\n",
    "neural net onto the GPU.\n",
    "\n",
    "Let\\'s first define our device as the first visible cuda device if we\n",
    "have CUDA available:\n"
   ]
  },
  {
   "cell_type": "code",
   "metadata": {
    "collapsed": false,
    "ExecuteTime": {
     "end_time": "2024-09-11T20:12:54.296871Z",
     "start_time": "2024-09-11T20:12:54.295145Z"
    }
   },
   "source": [
    "device = torch.device('cuda:0' if torch.cuda.is_available() else 'cpu')\n",
    "\n",
    "# Assuming that we are on a CUDA machine, this should print a CUDA device:\n",
    "\n",
    "print(device)"
   ],
   "outputs": [
    {
     "name": "stdout",
     "output_type": "stream",
     "text": [
      "cpu\n"
     ]
    }
   ],
   "execution_count": 342
  },
  {
   "cell_type": "markdown",
   "metadata": {},
   "source": [
    "The rest of this section assumes that `device` is a CUDA device.\n",
    "\n",
    "Then these methods will recursively go over all modules and convert\n",
    "their parameters and buffers to CUDA tensors:\n",
    "\n",
    "``` {.sourceCode .python}\n",
    "net.to(device)\n",
    "```\n",
    "\n",
    "Remember that you will have to send the inputs and targets at every step\n",
    "to the GPU too:\n",
    "\n",
    "``` {.sourceCode .python}\n",
    "inputs, labels = data[0].to(device), data[1].to(device)\n",
    "```\n",
    "\n",
    "Why don\\'t I notice MASSIVE speedup compared to CPU? Because your\n",
    "network is really small.\n",
    "\n",
    "**Exercise:** Try increasing the width of your network (argument 2 of\n",
    "the first `nn.Conv2d`, and argument 1 of the second `nn.Conv2d` -- they\n",
    "need to be the same number), see what kind of speedup you get.\n",
    "\n",
    "**Goals achieved**:\n",
    "\n",
    "-   Understanding PyTorch\\'s Tensor library and neural networks at a\n",
    "    high level.\n",
    "-   Train a small neural network to classify images\n",
    "\n",
    "Training on multiple GPUs\n",
    "=========================\n",
    "\n",
    "If you want to see even more MASSIVE speedup using all of your GPUs,\n",
    "please check out `data_parallel_tutorial`{.interpreted-text role=\"doc\"}.\n",
    "\n",
    "Where do I go next?\n",
    "===================\n",
    "\n",
    "-   `Train neural nets to play video games </intermediate/reinforcement_q_learning>`{.interpreted-text\n",
    "    role=\"doc\"}\n",
    "-   [Train a state-of-the-art ResNet network on\n",
    "    imagenet](https://github.com/pytorch/examples/tree/master/imagenet)\n",
    "-   [Train a face generator using Generative Adversarial\n",
    "    Networks](https://github.com/pytorch/examples/tree/master/dcgan)\n",
    "-   [Train a word-level language model using Recurrent LSTM\n",
    "    networks](https://github.com/pytorch/examples/tree/master/word_language_model)\n",
    "-   [More examples](https://github.com/pytorch/examples)\n",
    "-   [More tutorials](https://github.com/pytorch/tutorials)\n",
    "-   [Discuss PyTorch on the Forums](https://discuss.pytorch.org/)\n",
    "-   [Chat with other users on\n",
    "    Slack](https://pytorch.slack.com/messages/beginner/)\n"
   ]
  },
  {
   "cell_type": "code",
   "metadata": {
    "collapsed": false,
    "ExecuteTime": {
     "end_time": "2024-09-11T20:12:54.298984Z",
     "start_time": "2024-09-11T20:12:54.297615Z"
    }
   },
   "source": [
    "del dataiter"
   ],
   "outputs": [],
   "execution_count": 343
  }
 ],
 "metadata": {
  "kernelspec": {
   "display_name": "Python 3",
   "language": "python",
   "name": "python3"
  },
  "language_info": {
   "codemirror_mode": {
    "name": "ipython",
    "version": 3
   },
   "file_extension": ".py",
   "mimetype": "text/x-python",
   "name": "python",
   "nbconvert_exporter": "python",
   "pygments_lexer": "ipython3",
   "version": "3.10.14"
  }
 },
 "nbformat": 4,
 "nbformat_minor": 0
}
